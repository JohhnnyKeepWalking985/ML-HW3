{
 "cells": [
  {
   "cell_type": "code",
   "execution_count": 1,
   "metadata": {},
   "outputs": [],
   "source": [
    "import sys\n",
    "from pathlib import Path\n",
    "from neural_network_trainer import NeuralNetworkTrainer\n",
    "import warnings\n",
    "warnings.filterwarnings(\"ignore\")\n",
    "\n",
    "%load_ext autoreload\n",
    "%autoreload 2"
   ]
  },
  {
   "cell_type": "code",
   "execution_count": 2,
   "metadata": {},
   "outputs": [],
   "source": [
    "param_grid = {\n",
    "            \"num_layers\": [2, 3],\n",
    "            \"hidden_sizes\": [64, 128, 256],\n",
    "            \"learning_rate\": [0.001, 0.01],\n",
    "            \"activation\": [\"relu\", \"tanh\", \"sigmoid\"],\n",
    "            \"epochs\": [10, 20],\n",
    "            \"batch_size\": [32, 64, 128]\n",
    "        }"
   ]
  },
  {
   "cell_type": "markdown",
   "metadata": {},
   "source": [
    "# PCA Data"
   ]
  },
  {
   "cell_type": "code",
   "execution_count": null,
   "metadata": {},
   "outputs": [
    {
     "name": "stdout",
     "output_type": "stream",
     "text": [
      "Loading training data...\n",
      "Loading test data...\n",
      "Initializing model...\n",
      "Training model...\n",
      "Epoch 1/20, Loss: 0.6424\n",
      "Epoch 2/20, Loss: 0.5792\n",
      "Epoch 3/20, Loss: 0.5134\n",
      "Epoch 4/20, Loss: 0.4874\n",
      "Epoch 5/20, Loss: 0.4498\n",
      "Epoch 6/20, Loss: 0.4166\n",
      "Epoch 7/20, Loss: 0.3885\n",
      "Epoch 8/20, Loss: 0.3631\n",
      "Epoch 9/20, Loss: 0.3524\n",
      "Epoch 10/20, Loss: 0.3443\n",
      "Epoch 11/20, Loss: 0.3345\n",
      "Epoch 12/20, Loss: 0.3233\n",
      "Epoch 13/20, Loss: 0.3358\n",
      "Epoch 14/20, Loss: 0.3234\n",
      "Epoch 15/20, Loss: 0.3179\n",
      "Epoch 16/20, Loss: 0.3152\n",
      "Epoch 17/20, Loss: 0.3143\n",
      "Epoch 18/20, Loss: 0.3149\n",
      "Epoch 19/20, Loss: 0.2939\n",
      "Epoch 20/20, Loss: 0.3001\n",
      "Evaluating model...\n",
      "{'0': {'f1-score': 0.9280397022332506,\n",
      "       'precision': 0.8758782201405152,\n",
      "       'recall': 0.9868073878627969,\n",
      "       'support': 379.0},\n",
      " '1': {'f1-score': 0.35555555555555557,\n",
      "       'precision': 0.7619047619047619,\n",
      "       'recall': 0.2318840579710145,\n",
      "       'support': 69.0},\n",
      " 'accuracy': 0.8705357142857143,\n",
      " 'macro avg': {'f1-score': 0.6417976288944031,\n",
      "               'precision': 0.8188914910226386,\n",
      "               'recall': 0.6093457229169057,\n",
      "               'support': 448.0},\n",
      " 'weighted avg': {'f1-score': 0.839866920713695,\n",
      "                  'precision': 0.8583242723318836,\n",
      "                  'recall': 0.8705357142857143,\n",
      "                  'support': 448.0}}\n",
      "Evaluation results saved to /Users/zhangqujiaheng/Zhang's File/Gatech/ML/ML-HW3/results/neural_network_results.json\n"
     ]
    }
   ],
   "source": [
    "project_root = Path.cwd().parent\n",
    "sys.path.append(str(project_root))\n",
    "\n",
    "config_path = project_root / \"configs\" / \"nn_dr.yaml\"\n",
    "\n",
    "trainer = NeuralNetworkTrainer(config_path=config_path)\n",
    "trainer.train_and_evaluate()"
   ]
  },
  {
   "cell_type": "markdown",
   "metadata": {},
   "source": [
    "# ICA Data"
   ]
  },
  {
   "cell_type": "code",
   "execution_count": 14,
   "metadata": {},
   "outputs": [
    {
     "name": "stdout",
     "output_type": "stream",
     "text": [
      "Loading training data...\n",
      "Loading test data...\n",
      "Initializing model...\n",
      "Training model...\n",
      "Epoch 1/20, Loss: 0.7115\n",
      "Epoch 2/20, Loss: 0.6131\n",
      "Epoch 3/20, Loss: 0.5573\n",
      "Epoch 4/20, Loss: 0.5098\n",
      "Epoch 5/20, Loss: 0.4789\n",
      "Epoch 6/20, Loss: 0.4418\n",
      "Epoch 7/20, Loss: 0.4103\n",
      "Epoch 8/20, Loss: 0.4074\n",
      "Epoch 9/20, Loss: 0.3749\n",
      "Epoch 10/20, Loss: 0.3506\n",
      "Epoch 11/20, Loss: 0.3614\n",
      "Epoch 12/20, Loss: 0.3393\n",
      "Epoch 13/20, Loss: 0.3451\n",
      "Epoch 14/20, Loss: 0.3358\n",
      "Epoch 15/20, Loss: 0.3176\n",
      "Epoch 16/20, Loss: 0.3221\n",
      "Epoch 17/20, Loss: 0.3286\n",
      "Epoch 18/20, Loss: 0.3255\n",
      "Epoch 19/20, Loss: 0.3237\n",
      "Epoch 20/20, Loss: 0.3396\n",
      "Evaluating model...\n",
      "{'0': {'f1-score': 0.9193954659949622,\n",
      "       'precision': 0.8795180722891566,\n",
      "       'recall': 0.9630606860158312,\n",
      "       'support': 379.0},\n",
      " '1': {'f1-score': 0.37254901960784315,\n",
      "       'precision': 0.5757575757575758,\n",
      "       'recall': 0.2753623188405797,\n",
      "       'support': 69.0},\n",
      " 'accuracy': 0.8571428571428571,\n",
      " 'macro avg': {'f1-score': 0.6459722428014028,\n",
      "               'precision': 0.7276378240233662,\n",
      "               'recall': 0.6192115024282054,\n",
      "               'support': 448.0},\n",
      " 'weighted avg': {'f1-score': 0.8351713481362318,\n",
      "                  'precision': 0.8327335315287122,\n",
      "                  'recall': 0.8571428571428571,\n",
      "                  'support': 448.0}}\n",
      "Evaluation results saved to /Users/zhangqujiaheng/Zhang's File/Gatech/ML/ML-HW3/results/neural_network_results.json\n"
     ]
    }
   ],
   "source": [
    "project_root = Path.cwd().parent\n",
    "sys.path.append(str(project_root)) \n",
    "\n",
    "config_path = project_root / \"configs\" / \"nn_dr.yaml\"\n",
    "\n",
    "trainer = NeuralNetworkTrainer(config_path=config_path)\n",
    "trainer.train_and_evaluate()"
   ]
  },
  {
   "cell_type": "markdown",
   "metadata": {},
   "source": [
    "# RP Data"
   ]
  },
  {
   "cell_type": "code",
   "execution_count": null,
   "metadata": {},
   "outputs": [
    {
     "name": "stdout",
     "output_type": "stream",
     "text": [
      "Loading training data...\n",
      "Loading test data...\n",
      "Initializing model...\n",
      "Training model...\n",
      "Epoch 1/20, Loss: 0.6506\n",
      "Epoch 2/20, Loss: 0.5647\n",
      "Epoch 3/20, Loss: 0.5083\n",
      "Epoch 4/20, Loss: 0.4793\n",
      "Epoch 5/20, Loss: 0.4523\n",
      "Epoch 6/20, Loss: 0.4063\n",
      "Epoch 7/20, Loss: 0.3921\n",
      "Epoch 8/20, Loss: 0.3855\n",
      "Epoch 9/20, Loss: 0.3728\n",
      "Epoch 10/20, Loss: 0.3350\n",
      "Epoch 11/20, Loss: 0.3389\n",
      "Epoch 12/20, Loss: 0.3217\n",
      "Epoch 13/20, Loss: 0.3327\n",
      "Epoch 14/20, Loss: 0.3201\n",
      "Epoch 15/20, Loss: 0.3182\n",
      "Epoch 16/20, Loss: 0.3159\n",
      "Epoch 17/20, Loss: 0.3145\n",
      "Epoch 18/20, Loss: 0.3173\n",
      "Epoch 19/20, Loss: 0.3120\n",
      "Epoch 20/20, Loss: 0.3137\n",
      "Evaluating model...\n",
      "{'0': {'f1-score': 0.9244114002478315,\n",
      "       'precision': 0.8714953271028038,\n",
      "       'recall': 0.9841688654353562,\n",
      "       'support': 379.0},\n",
      " '1': {'f1-score': 0.3146067415730337,\n",
      "       'precision': 0.7,\n",
      "       'recall': 0.2028985507246377,\n",
      "       'support': 69.0},\n",
      " 'accuracy': 0.8638392857142857,\n",
      " 'macro avg': {'f1-score': 0.6195090709104326,\n",
      "               'precision': 0.7857476635514018,\n",
      "               'recall': 0.593533708079997,\n",
      "               'support': 448.0},\n",
      " 'weighted avg': {'f1-score': 0.8304905934430078,\n",
      "                  'precision': 0.8450819843124167,\n",
      "                  'recall': 0.8638392857142857,\n",
      "                  'support': 448.0}}\n",
      "Evaluation results saved to /Users/zhangqujiaheng/Zhang's File/Gatech/ML/ML-HW3/results/neural_network_results.json\n"
     ]
    }
   ],
   "source": [
    "project_root = Path.cwd().parent\n",
    "sys.path.append(str(project_root))\n",
    "\n",
    "config_path = project_root / \"configs\" / \"nn_dr.yaml\"\n",
    "\n",
    "trainer = NeuralNetworkTrainer(config_path=config_path)\n",
    "trainer.train_and_evaluate()"
   ]
  },
  {
   "cell_type": "code",
   "execution_count": null,
   "metadata": {},
   "outputs": [],
   "source": []
  }
 ],
 "metadata": {
  "kernelspec": {
   "display_name": "conda-ml2",
   "language": "python",
   "name": "ml-hw2"
  },
  "language_info": {
   "codemirror_mode": {
    "name": "ipython",
    "version": 3
   },
   "file_extension": ".py",
   "mimetype": "text/x-python",
   "name": "python",
   "nbconvert_exporter": "python",
   "pygments_lexer": "ipython3",
   "version": "3.12.3"
  }
 },
 "nbformat": 4,
 "nbformat_minor": 2
}
