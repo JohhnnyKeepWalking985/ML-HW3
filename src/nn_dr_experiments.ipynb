{
 "cells": [
  {
   "cell_type": "code",
   "execution_count": 1,
   "metadata": {},
   "outputs": [],
   "source": [
    "import sys\n",
    "from pathlib import Path\n",
    "from neural_network_trainer import NeuralNetworkTrainer\n",
    "import warnings\n",
    "warnings.filterwarnings(\"ignore\")\n",
    "\n",
    "%load_ext autoreload\n",
    "%autoreload 2"
   ]
  },
  {
   "cell_type": "code",
   "execution_count": 2,
   "metadata": {},
   "outputs": [],
   "source": [
    "param_grid = {\n",
    "            \"num_layers\": [2, 3],\n",
    "            \"hidden_sizes\": [64, 128, 256],\n",
    "            \"learning_rate\": [0.001, 0.01],\n",
    "            \"activation\": [\"relu\", \"tanh\", \"sigmoid\"],\n",
    "            \"epochs\": [10, 20],\n",
    "            \"batch_size\": [32, 64, 128]\n",
    "        }"
   ]
  },
  {
   "cell_type": "markdown",
   "metadata": {},
   "source": [
    "# PCA Data"
   ]
  },
  {
   "cell_type": "code",
   "execution_count": null,
   "metadata": {},
   "outputs": [
    {
     "name": "stdout",
     "output_type": "stream",
     "text": [
      "Loading training data...\n",
      "Loading test data...\n",
      "Initializing model...\n",
      "Training model...\n",
      "Epoch 1/20, Loss: 0.6424\n",
      "Epoch 2/20, Loss: 0.5792\n",
      "Epoch 3/20, Loss: 0.5134\n",
      "Epoch 4/20, Loss: 0.4874\n",
      "Epoch 5/20, Loss: 0.4498\n",
      "Epoch 6/20, Loss: 0.4166\n",
      "Epoch 7/20, Loss: 0.3885\n",
      "Epoch 8/20, Loss: 0.3631\n",
      "Epoch 9/20, Loss: 0.3524\n",
      "Epoch 10/20, Loss: 0.3443\n",
      "Epoch 11/20, Loss: 0.3345\n",
      "Epoch 12/20, Loss: 0.3233\n",
      "Epoch 13/20, Loss: 0.3358\n",
      "Epoch 14/20, Loss: 0.3234\n",
      "Epoch 15/20, Loss: 0.3179\n",
      "Epoch 16/20, Loss: 0.3152\n",
      "Epoch 17/20, Loss: 0.3143\n",
      "Epoch 18/20, Loss: 0.3149\n",
      "Epoch 19/20, Loss: 0.2939\n",
      "Epoch 20/20, Loss: 0.3001\n",
      "Evaluating model...\n",
      "{'0': {'f1-score': 0.9280397022332506,\n",
      "       'precision': 0.8758782201405152,\n",
      "       'recall': 0.9868073878627969,\n",
      "       'support': 379.0},\n",
      " '1': {'f1-score': 0.35555555555555557,\n",
      "       'precision': 0.7619047619047619,\n",
      "       'recall': 0.2318840579710145,\n",
      "       'support': 69.0},\n",
      " 'accuracy': 0.8705357142857143,\n",
      " 'macro avg': {'f1-score': 0.6417976288944031,\n",
      "               'precision': 0.8188914910226386,\n",
      "               'recall': 0.6093457229169057,\n",
      "               'support': 448.0},\n",
      " 'weighted avg': {'f1-score': 0.839866920713695,\n",
      "                  'precision': 0.8583242723318836,\n",
      "                  'recall': 0.8705357142857143,\n",
      "                  'support': 448.0}}\n",
      "Evaluation results saved to /Users/zhangqujiaheng/Zhang's File/Gatech/ML/ML-HW3/results/neural_network_results.json\n"
     ]
    }
   ],
   "source": [
    "project_root = Path.cwd().parent\n",
    "sys.path.append(str(project_root))\n",
    "\n",
    "config_path = project_root / \"configs\" / \"nn_dr.yaml\"\n",
    "\n",
    "trainer = NeuralNetworkTrainer(config_path=config_path)\n",
    "trainer.train_and_evaluate()"
   ]
  },
  {
   "cell_type": "markdown",
   "metadata": {},
   "source": [
    "# ICA Data"
   ]
  },
  {
   "cell_type": "code",
   "execution_count": 11,
   "metadata": {},
   "outputs": [
    {
     "name": "stdout",
     "output_type": "stream",
     "text": [
      "Loading training data...\n",
      "Loading test data...\n",
      "Initializing model...\n",
      "Training model...\n",
      "Epoch 1/20, Loss: 0.6597\n",
      "Epoch 2/20, Loss: 0.5825\n",
      "Epoch 3/20, Loss: 0.5367\n",
      "Epoch 4/20, Loss: 0.5021\n",
      "Epoch 5/20, Loss: 0.4610\n",
      "Epoch 6/20, Loss: 0.4334\n",
      "Epoch 7/20, Loss: 0.4024\n",
      "Epoch 8/20, Loss: 0.3991\n",
      "Epoch 9/20, Loss: 0.3572\n",
      "Epoch 10/20, Loss: 0.3494\n",
      "Epoch 11/20, Loss: 0.3445\n",
      "Epoch 12/20, Loss: 0.3417\n",
      "Epoch 13/20, Loss: 0.3441\n",
      "Epoch 14/20, Loss: 0.3557\n",
      "Epoch 15/20, Loss: 0.3207\n",
      "Epoch 16/20, Loss: 0.3182\n",
      "Epoch 17/20, Loss: 0.3189\n",
      "Epoch 18/20, Loss: 0.3267\n",
      "Epoch 19/20, Loss: 0.3160\n",
      "Epoch 20/20, Loss: 0.3144\n",
      "Evaluating model...\n",
      "{'0': {'f1-score': 0.9259723964868256,\n",
      "       'precision': 0.8827751196172249,\n",
      "       'recall': 0.9736147757255936,\n",
      "       'support': 379.0},\n",
      " '1': {'f1-score': 0.40404040404040403,\n",
      "       'precision': 0.6666666666666666,\n",
      "       'recall': 0.2898550724637681,\n",
      "       'support': 69.0},\n",
      " 'accuracy': 0.8683035714285714,\n",
      " 'macro avg': {'f1-score': 0.6650064002636148,\n",
      "               'precision': 0.7747208931419458,\n",
      "               'recall': 0.6317349240946809,\n",
      "               'support': 448.0},\n",
      " 'weighted avg': {'f1-score': 0.8455855494359259,\n",
      "                  'precision': 0.8494905587833219,\n",
      "                  'recall': 0.8683035714285714,\n",
      "                  'support': 448.0}}\n",
      "Evaluation results saved to /Users/zhangqujiaheng/Zhang's File/Gatech/ML/ML-HW3/results/neural_network_results.json\n"
     ]
    }
   ],
   "source": [
    "project_root = Path.cwd().parent\n",
    "sys.path.append(str(project_root)) \n",
    "\n",
    "config_path = project_root / \"configs\" / \"nn_dr.yaml\"\n",
    "\n",
    "trainer = NeuralNetworkTrainer(config_path=config_path)\n",
    "trainer.train_and_evaluate()"
   ]
  },
  {
   "cell_type": "markdown",
   "metadata": {},
   "source": [
    "# RP Data"
   ]
  },
  {
   "cell_type": "code",
   "execution_count": 5,
   "metadata": {},
   "outputs": [
    {
     "name": "stdout",
     "output_type": "stream",
     "text": [
      "Loading training data...\n",
      "Loading test data...\n",
      "Initializing model...\n",
      "Training model...\n",
      "Epoch 1/20, Loss: 0.6822\n",
      "Epoch 2/20, Loss: 0.5921\n",
      "Epoch 3/20, Loss: 0.5438\n",
      "Epoch 4/20, Loss: 0.4898\n",
      "Epoch 5/20, Loss: 0.4703\n",
      "Epoch 6/20, Loss: 0.4397\n",
      "Epoch 7/20, Loss: 0.3924\n",
      "Epoch 8/20, Loss: 0.3687\n",
      "Epoch 9/20, Loss: 0.3495\n",
      "Epoch 10/20, Loss: 0.3564\n",
      "Epoch 11/20, Loss: 0.3531\n",
      "Epoch 12/20, Loss: 0.3329\n",
      "Epoch 13/20, Loss: 0.3446\n",
      "Epoch 14/20, Loss: 0.3455\n",
      "Epoch 15/20, Loss: 0.3107\n",
      "Epoch 16/20, Loss: 0.3237\n",
      "Epoch 17/20, Loss: 0.3257\n",
      "Epoch 18/20, Loss: 0.3256\n",
      "Epoch 19/20, Loss: 0.3229\n",
      "Epoch 20/20, Loss: 0.3104\n",
      "Evaluating model...\n",
      "{'0': {'f1-score': 0.9273182957393483,\n",
      "       'precision': 0.883054892601432,\n",
      "       'recall': 0.9762532981530343,\n",
      "       'support': 379.0},\n",
      " '1': {'f1-score': 0.40816326530612246,\n",
      "       'precision': 0.6896551724137931,\n",
      "       'recall': 0.2898550724637681,\n",
      "       'support': 69.0},\n",
      " 'accuracy': 0.8705357142857143,\n",
      " 'macro avg': {'f1-score': 0.6677407805227353,\n",
      "               'precision': 0.7863550325076125,\n",
      "               'recall': 0.6330541853084012,\n",
      "               'support': 448.0},\n",
      " 'weighted avg': {'f1-score': 0.8473591504270882,\n",
      "                  'precision': 0.8532678821261037,\n",
      "                  'recall': 0.8705357142857143,\n",
      "                  'support': 448.0}}\n",
      "Evaluation results saved to /Users/zhangqujiaheng/Zhang's File/Gatech/ML/ML-HW3/results/neural_network_results.json\n"
     ]
    }
   ],
   "source": [
    "project_root = Path.cwd().parent\n",
    "sys.path.append(str(project_root))\n",
    "\n",
    "config_path = project_root / \"configs\" / \"nn_dr.yaml\"\n",
    "\n",
    "trainer = NeuralNetworkTrainer(config_path=config_path)\n",
    "trainer.train_and_evaluate()"
   ]
  },
  {
   "cell_type": "markdown",
   "metadata": {},
   "source": [
    "# Umap"
   ]
  },
  {
   "cell_type": "code",
   "execution_count": 2,
   "metadata": {},
   "outputs": [
    {
     "name": "stdout",
     "output_type": "stream",
     "text": [
      "Loading training data...\n",
      "Loading test data...\n",
      "Initializing model...\n",
      "Training model...\n",
      "Epoch 1/20, Loss: 0.7225\n",
      "Epoch 2/20, Loss: 0.6195\n",
      "Epoch 3/20, Loss: 0.5600\n",
      "Epoch 4/20, Loss: 0.5261\n",
      "Epoch 5/20, Loss: 0.4814\n",
      "Epoch 6/20, Loss: 0.4580\n",
      "Epoch 7/20, Loss: 0.4599\n",
      "Epoch 8/20, Loss: 0.4096\n",
      "Epoch 9/20, Loss: 0.3907\n",
      "Epoch 10/20, Loss: 0.3807\n",
      "Epoch 11/20, Loss: 0.3804\n",
      "Epoch 12/20, Loss: 0.3951\n",
      "Epoch 13/20, Loss: 0.3889\n",
      "Epoch 14/20, Loss: 0.3918\n",
      "Epoch 15/20, Loss: 0.3706\n",
      "Epoch 16/20, Loss: 0.3678\n",
      "Epoch 17/20, Loss: 0.3587\n",
      "Epoch 18/20, Loss: 0.3719\n",
      "Epoch 19/20, Loss: 0.3818\n",
      "Epoch 20/20, Loss: 0.3679\n",
      "Evaluating model...\n",
      "{'0': {'f1-score': 0.9193154034229829,\n",
      "       'precision': 0.856492027334852,\n",
      "       'recall': 0.9920844327176781,\n",
      "       'support': 379.0},\n",
      " '1': {'f1-score': 0.15384615384615385,\n",
      "       'precision': 0.6666666666666666,\n",
      "       'recall': 0.08695652173913043,\n",
      "       'support': 69.0},\n",
      " 'accuracy': 0.8526785714285714,\n",
      " 'macro avg': {'f1-score': 0.5365807786345684,\n",
      "               'precision': 0.7615793470007592,\n",
      "               'recall': 0.5395204772284042,\n",
      "               'support': 448.0},\n",
      " 'weighted avg': {'f1-score': 0.8014194698944088,\n",
      "                  'precision': 0.827255532053368,\n",
      "                  'recall': 0.8526785714285714,\n",
      "                  'support': 448.0}}\n",
      "Evaluation results saved to /Users/zhangqujiaheng/Zhang's File/Gatech/ML/ML-HW3/results/neural_network_results.json\n"
     ]
    }
   ],
   "source": [
    "project_root = Path.cwd().parent\n",
    "sys.path.append(str(project_root))\n",
    "\n",
    "config_path = project_root / \"configs\" / \"nn_dr.yaml\"\n",
    "\n",
    "trainer = NeuralNetworkTrainer(config_path=config_path)\n",
    "trainer.train_and_evaluate()"
   ]
  }
 ],
 "metadata": {
  "kernelspec": {
   "display_name": "conda-ml2",
   "language": "python",
   "name": "ml-hw2"
  },
  "language_info": {
   "codemirror_mode": {
    "name": "ipython",
    "version": 3
   },
   "file_extension": ".py",
   "mimetype": "text/x-python",
   "name": "python",
   "nbconvert_exporter": "python",
   "pygments_lexer": "ipython3",
   "version": "3.12.3"
  }
 },
 "nbformat": 4,
 "nbformat_minor": 2
}
