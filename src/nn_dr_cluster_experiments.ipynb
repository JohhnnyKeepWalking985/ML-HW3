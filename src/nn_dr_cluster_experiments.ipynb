{
 "cells": [
  {
   "cell_type": "code",
   "execution_count": 2,
   "metadata": {},
   "outputs": [
    {
     "name": "stdout",
     "output_type": "stream",
     "text": [
      "The autoreload extension is already loaded. To reload it, use:\n",
      "  %reload_ext autoreload\n"
     ]
    }
   ],
   "source": [
    "import sys\n",
    "from pathlib import Path\n",
    "from neural_network_trainer import NeuralNetworkTrainer\n",
    "import warnings\n",
    "warnings.filterwarnings(\"ignore\")\n",
    "\n",
    "%load_ext autoreload\n",
    "%autoreload 2"
   ]
  },
  {
   "cell_type": "code",
   "execution_count": 3,
   "metadata": {},
   "outputs": [],
   "source": [
    "param_grid = {\n",
    "            \"num_layers\": [2, 3],\n",
    "            \"hidden_sizes\": [64, 128, 256],\n",
    "            \"learning_rate\": [0.001, 0.01],\n",
    "            \"activation\": [\"relu\", \"tanh\", \"sigmoid\"],\n",
    "            \"epochs\": [10, 20],\n",
    "            \"batch_size\": [32, 64, 128]\n",
    "        }"
   ]
  },
  {
   "cell_type": "markdown",
   "metadata": {},
   "source": [
    "# PCA + Kmeans"
   ]
  },
  {
   "cell_type": "code",
   "execution_count": 26,
   "metadata": {},
   "outputs": [
    {
     "name": "stdout",
     "output_type": "stream",
     "text": [
      "Loading training data...\n",
      "Loading test data...\n",
      "Initializing model...\n",
      "Training model...\n",
      "Epoch 1/20, Loss: 0.6663\n",
      "Epoch 2/20, Loss: 0.5640\n",
      "Epoch 3/20, Loss: 0.5205\n",
      "Epoch 4/20, Loss: 0.4912\n",
      "Epoch 5/20, Loss: 0.4588\n",
      "Epoch 6/20, Loss: 0.4170\n",
      "Epoch 7/20, Loss: 0.3800\n",
      "Epoch 8/20, Loss: 0.3639\n",
      "Epoch 9/20, Loss: 0.3597\n",
      "Epoch 10/20, Loss: 0.3510\n",
      "Epoch 11/20, Loss: 0.3450\n",
      "Epoch 12/20, Loss: 0.3279\n",
      "Epoch 13/20, Loss: 0.3182\n",
      "Epoch 14/20, Loss: 0.3218\n",
      "Epoch 15/20, Loss: 0.3086\n",
      "Epoch 16/20, Loss: 0.3239\n",
      "Epoch 17/20, Loss: 0.3145\n",
      "Epoch 18/20, Loss: 0.3155\n",
      "Epoch 19/20, Loss: 0.3159\n",
      "Epoch 20/20, Loss: 0.3120\n",
      "Evaluating model...\n",
      "{'0': {'f1-score': 0.9230769230769231,\n",
      "       'precision': 0.8840579710144928,\n",
      "       'recall': 0.9656992084432717,\n",
      "       'support': 379.0},\n",
      " '1': {'f1-score': 0.4077669902912621,\n",
      "       'precision': 0.6176470588235294,\n",
      "       'recall': 0.30434782608695654,\n",
      "       'support': 69.0},\n",
      " 'accuracy': 0.8638392857142857,\n",
      " 'macro avg': {'f1-score': 0.6654219566840927,\n",
      "               'precision': 0.7508525149190111,\n",
      "               'recall': 0.6350235172651142,\n",
      "               'support': 448.0},\n",
      " 'weighted avg': {'f1-score': 0.8437099914648458,\n",
      "                  'precision': 0.8430259331993667,\n",
      "                  'recall': 0.8638392857142857,\n",
      "                  'support': 448.0}}\n",
      "Evaluation results saved to /Users/zhangqujiaheng/Zhang's File/Gatech/ML/ML-HW3/results/neural_network_results.json\n"
     ]
    }
   ],
   "source": [
    "project_root = Path.cwd().parent\n",
    "sys.path.append(str(project_root)) \n",
    "\n",
    "config_path = project_root / \"configs\" / \"nn_dr_cluster.yaml\"\n",
    "\n",
    "trainer = NeuralNetworkTrainer(config_path=config_path)\n",
    "trainer.train_and_evaluate()"
   ]
  },
  {
   "cell_type": "markdown",
   "metadata": {},
   "source": [
    "# ICA + Kmeans"
   ]
  },
  {
   "cell_type": "code",
   "execution_count": 30,
   "metadata": {},
   "outputs": [
    {
     "name": "stdout",
     "output_type": "stream",
     "text": [
      "Loading training data...\n",
      "Loading test data...\n",
      "Initializing model...\n",
      "Training model...\n",
      "Epoch 1/20, Loss: 0.6751\n",
      "Epoch 2/20, Loss: 0.5864\n",
      "Epoch 3/20, Loss: 0.5583\n",
      "Epoch 4/20, Loss: 0.5153\n",
      "Epoch 5/20, Loss: 0.4662\n",
      "Epoch 6/20, Loss: 0.4367\n",
      "Epoch 7/20, Loss: 0.3967\n",
      "Epoch 8/20, Loss: 0.3932\n",
      "Epoch 9/20, Loss: 0.3674\n",
      "Epoch 10/20, Loss: 0.3512\n",
      "Epoch 11/20, Loss: 0.3598\n",
      "Epoch 12/20, Loss: 0.3312\n",
      "Epoch 13/20, Loss: 0.3285\n",
      "Epoch 14/20, Loss: 0.3267\n",
      "Epoch 15/20, Loss: 0.3253\n",
      "Epoch 16/20, Loss: 0.3287\n",
      "Epoch 17/20, Loss: 0.3339\n",
      "Epoch 18/20, Loss: 0.3197\n",
      "Epoch 19/20, Loss: 0.3134\n",
      "Epoch 20/20, Loss: 0.3165\n",
      "Evaluating model...\n",
      "{'0': {'f1-score': 0.922882427307206,\n",
      "       'precision': 0.8859223300970874,\n",
      "       'recall': 0.9630606860158312,\n",
      "       'support': 379.0},\n",
      " '1': {'f1-score': 0.41904761904761906,\n",
      "       'precision': 0.6111111111111112,\n",
      "       'recall': 0.3188405797101449,\n",
      "       'support': 69.0},\n",
      " 'accuracy': 0.8638392857142857,\n",
      " 'macro avg': {'f1-score': 0.6709650231774126,\n",
      "               'precision': 0.7485167206040992,\n",
      "               'recall': 0.640950632862988,\n",
      "               'support': 448.0},\n",
      " 'weighted avg': {'f1-score': 0.8452828697850822,\n",
      "                  'precision': 0.8435964950300509,\n",
      "                  'recall': 0.8638392857142857,\n",
      "                  'support': 448.0}}\n",
      "Evaluation results saved to /Users/zhangqujiaheng/Zhang's File/Gatech/ML/ML-HW3/results/neural_network_results.json\n"
     ]
    }
   ],
   "source": [
    "project_root = Path.cwd().parent\n",
    "sys.path.append(str(project_root)) \n",
    "\n",
    "config_path = project_root / \"configs\" / \"nn_dr_cluster.yaml\"\n",
    "\n",
    "trainer = NeuralNetworkTrainer(config_path=config_path)\n",
    "trainer.train_and_evaluate()"
   ]
  },
  {
   "cell_type": "markdown",
   "metadata": {},
   "source": [
    "# RP + Kmeans"
   ]
  },
  {
   "cell_type": "code",
   "execution_count": 35,
   "metadata": {},
   "outputs": [
    {
     "name": "stdout",
     "output_type": "stream",
     "text": [
      "Loading training data...\n",
      "Loading test data...\n",
      "Initializing model...\n",
      "Training model...\n",
      "Epoch 1/20, Loss: 0.7095\n",
      "Epoch 2/20, Loss: 0.6242\n",
      "Epoch 3/20, Loss: 0.5683\n",
      "Epoch 4/20, Loss: 0.5216\n",
      "Epoch 5/20, Loss: 0.4843\n",
      "Epoch 6/20, Loss: 0.4418\n",
      "Epoch 7/20, Loss: 0.4133\n",
      "Epoch 8/20, Loss: 0.3837\n",
      "Epoch 9/20, Loss: 0.3681\n",
      "Epoch 10/20, Loss: 0.3465\n",
      "Epoch 11/20, Loss: 0.3455\n",
      "Epoch 12/20, Loss: 0.3434\n",
      "Epoch 13/20, Loss: 0.3475\n",
      "Epoch 14/20, Loss: 0.3163\n",
      "Epoch 15/20, Loss: 0.3301\n",
      "Epoch 16/20, Loss: 0.3133\n",
      "Epoch 17/20, Loss: 0.3212\n",
      "Epoch 18/20, Loss: 0.3146\n",
      "Epoch 19/20, Loss: 0.3116\n",
      "Epoch 20/20, Loss: 0.3109\n",
      "Evaluating model...\n",
      "{'0': {'f1-score': 0.9265255292652553,\n",
      "       'precision': 0.8773584905660378,\n",
      "       'recall': 0.9815303430079155,\n",
      "       'support': 379.0},\n",
      " '1': {'f1-score': 0.3655913978494624,\n",
      "       'precision': 0.7083333333333334,\n",
      "       'recall': 0.2463768115942029,\n",
      "       'support': 69.0},\n",
      " 'accuracy': 0.8683035714285714,\n",
      " 'macro avg': {'f1-score': 0.6460584635573589,\n",
      "               'precision': 0.7928459119496856,\n",
      "               'recall': 0.6139535773010593,\n",
      "               'support': 448.0},\n",
      " 'weighted avg': {'f1-score': 0.840131656346305,\n",
      "                  'precision': 0.8513255980458221,\n",
      "                  'recall': 0.8683035714285714,\n",
      "                  'support': 448.0}}\n",
      "Evaluation results saved to /Users/zhangqujiaheng/Zhang's File/Gatech/ML/ML-HW3/results/neural_network_results.json\n"
     ]
    }
   ],
   "source": [
    "project_root = Path.cwd().parent\n",
    "sys.path.append(str(project_root)) \n",
    "\n",
    "config_path = project_root / \"configs\" / \"nn_dr_cluster.yaml\"\n",
    "\n",
    "trainer = NeuralNetworkTrainer(config_path=config_path)\n",
    "trainer.train_and_evaluate()"
   ]
  },
  {
   "cell_type": "markdown",
   "metadata": {},
   "source": [
    "# PCA + EM"
   ]
  },
  {
   "cell_type": "code",
   "execution_count": null,
   "metadata": {},
   "outputs": [
    {
     "name": "stdout",
     "output_type": "stream",
     "text": [
      "Loading training data...\n",
      "Loading test data...\n",
      "Initializing model...\n",
      "Training model...\n",
      "Epoch 1/20, Loss: 0.6641\n",
      "Epoch 2/20, Loss: 0.5599\n",
      "Epoch 3/20, Loss: 0.5262\n",
      "Epoch 4/20, Loss: 0.4789\n",
      "Epoch 5/20, Loss: 0.4376\n",
      "Epoch 6/20, Loss: 0.4159\n",
      "Epoch 7/20, Loss: 0.3935\n",
      "Epoch 8/20, Loss: 0.3600\n",
      "Epoch 9/20, Loss: 0.3590\n",
      "Epoch 10/20, Loss: 0.3365\n",
      "Epoch 11/20, Loss: 0.3286\n",
      "Epoch 12/20, Loss: 0.3110\n",
      "Epoch 13/20, Loss: 0.3156\n",
      "Epoch 14/20, Loss: 0.3182\n",
      "Epoch 15/20, Loss: 0.3263\n",
      "Epoch 16/20, Loss: 0.3128\n",
      "Epoch 17/20, Loss: 0.3136\n",
      "Epoch 18/20, Loss: 0.3130\n",
      "Epoch 19/20, Loss: 0.3078\n",
      "Epoch 20/20, Loss: 0.3172\n",
      "Evaluating model...\n",
      "{'0': {'f1-score': 0.9261576971214017,\n",
      "       'precision': 0.8809523809523809,\n",
      "       'recall': 0.9762532981530343,\n",
      "       'support': 379.0},\n",
      " '1': {'f1-score': 0.3917525773195876,\n",
      "       'precision': 0.6785714285714286,\n",
      "       'recall': 0.2753623188405797,\n",
      "       'support': 69.0},\n",
      " 'accuracy': 0.8683035714285714,\n",
      " 'macro avg': {'f1-score': 0.6589551372204947,\n",
      "               'precision': 0.7797619047619048,\n",
      "               'recall': 0.6258078084968071,\n",
      "               'support': 448.0},\n",
      " 'weighted avg': {'f1-score': 0.8438497657233545,\n",
      "                  'precision': 0.8497821003401359,\n",
      "                  'recall': 0.8683035714285714,\n",
      "                  'support': 448.0}}\n",
      "Evaluation results saved to /Users/zhangqujiaheng/Zhang's File/Gatech/ML/ML-HW3/results/neural_network_results.json\n"
     ]
    }
   ],
   "source": [
    "project_root = Path.cwd().parent\n",
    "sys.path.append(str(project_root))\n",
    "\n",
    "config_path = project_root / \"configs\" / \"nn_dr_cluster.yaml\"\n",
    "\n",
    "trainer = NeuralNetworkTrainer(config_path=config_path)\n",
    "trainer.train_and_evaluate()"
   ]
  },
  {
   "cell_type": "markdown",
   "metadata": {},
   "source": [
    "# ICA + EM"
   ]
  },
  {
   "cell_type": "code",
   "execution_count": 40,
   "metadata": {},
   "outputs": [
    {
     "name": "stdout",
     "output_type": "stream",
     "text": [
      "Loading training data...\n",
      "Loading test data...\n",
      "Initializing model...\n",
      "Training model...\n",
      "Epoch 1/20, Loss: 0.6847\n",
      "Epoch 2/20, Loss: 0.5782\n",
      "Epoch 3/20, Loss: 0.5396\n",
      "Epoch 4/20, Loss: 0.4961\n",
      "Epoch 5/20, Loss: 0.4627\n",
      "Epoch 6/20, Loss: 0.4301\n",
      "Epoch 7/20, Loss: 0.4049\n",
      "Epoch 8/20, Loss: 0.3856\n",
      "Epoch 9/20, Loss: 0.3628\n",
      "Epoch 10/20, Loss: 0.3486\n",
      "Epoch 11/20, Loss: 0.3521\n",
      "Epoch 12/20, Loss: 0.3432\n",
      "Epoch 13/20, Loss: 0.3220\n",
      "Epoch 14/20, Loss: 0.3203\n",
      "Epoch 15/20, Loss: 0.3249\n",
      "Epoch 16/20, Loss: 0.3286\n",
      "Epoch 17/20, Loss: 0.3316\n",
      "Epoch 18/20, Loss: 0.3175\n",
      "Epoch 19/20, Loss: 0.3167\n",
      "Epoch 20/20, Loss: 0.3087\n",
      "Evaluating model...\n",
      "{'0': {'f1-score': 0.9199491740787802,\n",
      "       'precision': 0.8872549019607843,\n",
      "       'recall': 0.9551451187335093,\n",
      "       'support': 379.0},\n",
      " '1': {'f1-score': 0.42201834862385323,\n",
      "       'precision': 0.575,\n",
      "       'recall': 0.3333333333333333,\n",
      "       'support': 69.0},\n",
      " 'accuracy': 0.859375,\n",
      " 'macro avg': {'f1-score': 0.6709837613513168,\n",
      "               'precision': 0.7311274509803921,\n",
      "               'recall': 0.6442392260334213,\n",
      "               'support': 448.0},\n",
      " 'weighted avg': {'f1-score': 0.8432589353368384,\n",
      "                  'precision': 0.8391620710784313,\n",
      "                  'recall': 0.859375,\n",
      "                  'support': 448.0}}\n",
      "Evaluation results saved to /Users/zhangqujiaheng/Zhang's File/Gatech/ML/ML-HW3/results/neural_network_results.json\n"
     ]
    }
   ],
   "source": [
    "project_root = Path.cwd().parent\n",
    "sys.path.append(str(project_root))\n",
    "\n",
    "config_path = project_root / \"configs\" / \"nn_dr_cluster.yaml\"\n",
    "\n",
    "trainer = NeuralNetworkTrainer(config_path=config_path)\n",
    "trainer.train_and_evaluate()"
   ]
  },
  {
   "cell_type": "markdown",
   "metadata": {},
   "source": [
    "# RP + EM"
   ]
  },
  {
   "cell_type": "code",
   "execution_count": 45,
   "metadata": {},
   "outputs": [
    {
     "name": "stdout",
     "output_type": "stream",
     "text": [
      "Loading training data...\n",
      "Loading test data...\n",
      "Initializing model...\n",
      "Training model...\n",
      "Epoch 1/20, Loss: 0.7094\n",
      "Epoch 2/20, Loss: 0.6129\n",
      "Epoch 3/20, Loss: 0.5510\n",
      "Epoch 4/20, Loss: 0.5103\n",
      "Epoch 5/20, Loss: 0.4987\n",
      "Epoch 6/20, Loss: 0.4438\n",
      "Epoch 7/20, Loss: 0.4369\n",
      "Epoch 8/20, Loss: 0.4075\n",
      "Epoch 9/20, Loss: 0.3708\n",
      "Epoch 10/20, Loss: 0.3537\n",
      "Epoch 11/20, Loss: 0.3267\n",
      "Epoch 12/20, Loss: 0.3297\n",
      "Epoch 13/20, Loss: 0.3267\n",
      "Epoch 14/20, Loss: 0.3237\n",
      "Epoch 15/20, Loss: 0.3245\n",
      "Epoch 16/20, Loss: 0.3143\n",
      "Epoch 17/20, Loss: 0.3140\n",
      "Epoch 18/20, Loss: 0.3201\n",
      "Epoch 19/20, Loss: 0.3175\n",
      "Epoch 20/20, Loss: 0.3097\n",
      "Evaluating model...\n",
      "{'0': {'f1-score': 0.9246231155778895,\n",
      "       'precision': 0.882494004796163,\n",
      "       'recall': 0.9709762532981531,\n",
      "       'support': 379.0},\n",
      " '1': {'f1-score': 0.4,\n",
      "       'precision': 0.6451612903225806,\n",
      "       'recall': 0.2898550724637681,\n",
      "       'support': 69.0},\n",
      " 'accuracy': 0.8660714285714286,\n",
      " 'macro avg': {'f1-score': 0.6623115577889447,\n",
      "               'precision': 0.7638276475593718,\n",
      "               'recall': 0.6304156628809606,\n",
      "               'support': 448.0},\n",
      " 'weighted avg': {'f1-score': 0.8438217875089735,\n",
      "                  'precision': 0.8459405286830444,\n",
      "                  'recall': 0.8660714285714286,\n",
      "                  'support': 448.0}}\n",
      "Evaluation results saved to /Users/zhangqujiaheng/Zhang's File/Gatech/ML/ML-HW3/results/neural_network_results.json\n"
     ]
    }
   ],
   "source": [
    "project_root = Path.cwd().parent\n",
    "sys.path.append(str(project_root))\n",
    "\n",
    "config_path = project_root / \"configs\" / \"nn_dr_cluster.yaml\"\n",
    "\n",
    "trainer = NeuralNetworkTrainer(config_path=config_path)\n",
    "trainer.train_and_evaluate()"
   ]
  }
 ],
 "metadata": {
  "kernelspec": {
   "display_name": "conda-ml2",
   "language": "python",
   "name": "ml-hw2"
  },
  "language_info": {
   "codemirror_mode": {
    "name": "ipython",
    "version": 3
   },
   "file_extension": ".py",
   "mimetype": "text/x-python",
   "name": "python",
   "nbconvert_exporter": "python",
   "pygments_lexer": "ipython3",
   "version": "3.12.3"
  }
 },
 "nbformat": 4,
 "nbformat_minor": 2
}
