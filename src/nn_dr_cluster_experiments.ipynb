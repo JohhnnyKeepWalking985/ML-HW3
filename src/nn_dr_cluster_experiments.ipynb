{
 "cells": [
  {
   "cell_type": "code",
   "execution_count": 1,
   "metadata": {},
   "outputs": [],
   "source": [
    "import sys\n",
    "from pathlib import Path\n",
    "from neural_network_trainer import NeuralNetworkTrainer\n",
    "import warnings\n",
    "warnings.filterwarnings(\"ignore\")\n",
    "\n",
    "%load_ext autoreload\n",
    "%autoreload 2"
   ]
  },
  {
   "cell_type": "code",
   "execution_count": 3,
   "metadata": {},
   "outputs": [],
   "source": [
    "param_grid = {\n",
    "            \"num_layers\": [2, 3],\n",
    "            \"hidden_sizes\": [64, 128, 256],\n",
    "            \"learning_rate\": [0.001, 0.01],\n",
    "            \"activation\": [\"relu\", \"tanh\", \"sigmoid\"],\n",
    "            \"epochs\": [10, 20],\n",
    "            \"batch_size\": [32, 64, 128]\n",
    "        }"
   ]
  },
  {
   "cell_type": "markdown",
   "metadata": {},
   "source": [
    "# PCA + Kmeans"
   ]
  },
  {
   "cell_type": "code",
   "execution_count": 26,
   "metadata": {},
   "outputs": [
    {
     "name": "stdout",
     "output_type": "stream",
     "text": [
      "Loading training data...\n",
      "Loading test data...\n",
      "Initializing model...\n",
      "Training model...\n",
      "Epoch 1/20, Loss: 0.6663\n",
      "Epoch 2/20, Loss: 0.5640\n",
      "Epoch 3/20, Loss: 0.5205\n",
      "Epoch 4/20, Loss: 0.4912\n",
      "Epoch 5/20, Loss: 0.4588\n",
      "Epoch 6/20, Loss: 0.4170\n",
      "Epoch 7/20, Loss: 0.3800\n",
      "Epoch 8/20, Loss: 0.3639\n",
      "Epoch 9/20, Loss: 0.3597\n",
      "Epoch 10/20, Loss: 0.3510\n",
      "Epoch 11/20, Loss: 0.3450\n",
      "Epoch 12/20, Loss: 0.3279\n",
      "Epoch 13/20, Loss: 0.3182\n",
      "Epoch 14/20, Loss: 0.3218\n",
      "Epoch 15/20, Loss: 0.3086\n",
      "Epoch 16/20, Loss: 0.3239\n",
      "Epoch 17/20, Loss: 0.3145\n",
      "Epoch 18/20, Loss: 0.3155\n",
      "Epoch 19/20, Loss: 0.3159\n",
      "Epoch 20/20, Loss: 0.3120\n",
      "Evaluating model...\n",
      "{'0': {'f1-score': 0.9230769230769231,\n",
      "       'precision': 0.8840579710144928,\n",
      "       'recall': 0.9656992084432717,\n",
      "       'support': 379.0},\n",
      " '1': {'f1-score': 0.4077669902912621,\n",
      "       'precision': 0.6176470588235294,\n",
      "       'recall': 0.30434782608695654,\n",
      "       'support': 69.0},\n",
      " 'accuracy': 0.8638392857142857,\n",
      " 'macro avg': {'f1-score': 0.6654219566840927,\n",
      "               'precision': 0.7508525149190111,\n",
      "               'recall': 0.6350235172651142,\n",
      "               'support': 448.0},\n",
      " 'weighted avg': {'f1-score': 0.8437099914648458,\n",
      "                  'precision': 0.8430259331993667,\n",
      "                  'recall': 0.8638392857142857,\n",
      "                  'support': 448.0}}\n",
      "Evaluation results saved to /Users/zhangqujiaheng/Zhang's File/Gatech/ML/ML-HW3/results/neural_network_results.json\n"
     ]
    }
   ],
   "source": [
    "project_root = Path.cwd().parent\n",
    "sys.path.append(str(project_root)) \n",
    "\n",
    "config_path = project_root / \"configs\" / \"nn_dr_cluster.yaml\"\n",
    "\n",
    "trainer = NeuralNetworkTrainer(config_path=config_path)\n",
    "trainer.train_and_evaluate()"
   ]
  },
  {
   "cell_type": "markdown",
   "metadata": {},
   "source": [
    "# ICA + Kmeans"
   ]
  },
  {
   "cell_type": "code",
   "execution_count": 4,
   "metadata": {},
   "outputs": [
    {
     "name": "stdout",
     "output_type": "stream",
     "text": [
      "Loading training data...\n",
      "Loading test data...\n",
      "Initializing model...\n",
      "Training model...\n",
      "Epoch 1/20, Loss: 0.6924\n",
      "Epoch 2/20, Loss: 0.6063\n",
      "Epoch 3/20, Loss: 0.5574\n",
      "Epoch 4/20, Loss: 0.5149\n",
      "Epoch 5/20, Loss: 0.4755\n",
      "Epoch 6/20, Loss: 0.4405\n",
      "Epoch 7/20, Loss: 0.4265\n",
      "Epoch 8/20, Loss: 0.3954\n",
      "Epoch 9/20, Loss: 0.3711\n",
      "Epoch 10/20, Loss: 0.3778\n",
      "Epoch 11/20, Loss: 0.3531\n",
      "Epoch 12/20, Loss: 0.3457\n",
      "Epoch 13/20, Loss: 0.3378\n",
      "Epoch 14/20, Loss: 0.3289\n",
      "Epoch 15/20, Loss: 0.3357\n",
      "Epoch 16/20, Loss: 0.3208\n",
      "Epoch 17/20, Loss: 0.3144\n",
      "Epoch 18/20, Loss: 0.3275\n",
      "Epoch 19/20, Loss: 0.3167\n",
      "Epoch 20/20, Loss: 0.3211\n",
      "Evaluating model...\n",
      "{'0': {'f1-score': 0.9236545682102628,\n",
      "       'precision': 0.8785714285714286,\n",
      "       'recall': 0.9736147757255936,\n",
      "       'support': 379.0},\n",
      " '1': {'f1-score': 0.3711340206185567,\n",
      "       'precision': 0.6428571428571429,\n",
      "       'recall': 0.2608695652173913,\n",
      "       'support': 69.0},\n",
      " 'accuracy': 0.8638392857142857,\n",
      " 'macro avg': {'f1-score': 0.6473942944144098,\n",
      "               'precision': 0.7607142857142857,\n",
      "               'recall': 0.6172421704714924,\n",
      "               'support': 448.0},\n",
      " 'weighted avg': {'f1-score': 0.8385565374427902,\n",
      "                  'precision': 0.8422672193877551,\n",
      "                  'recall': 0.8638392857142857,\n",
      "                  'support': 448.0}}\n",
      "Evaluation results saved to /Users/zhangqujiaheng/Zhang's File/Gatech/ML/ML-HW3/results/neural_network_results.json\n"
     ]
    }
   ],
   "source": [
    "project_root = Path.cwd().parent\n",
    "sys.path.append(str(project_root)) \n",
    "\n",
    "config_path = project_root / \"configs\" / \"nn_dr_cluster.yaml\"\n",
    "\n",
    "trainer = NeuralNetworkTrainer(config_path=config_path)\n",
    "trainer.train_and_evaluate()"
   ]
  },
  {
   "cell_type": "markdown",
   "metadata": {},
   "source": [
    "# RP + Kmeans"
   ]
  },
  {
   "cell_type": "code",
   "execution_count": 35,
   "metadata": {},
   "outputs": [
    {
     "name": "stdout",
     "output_type": "stream",
     "text": [
      "Loading training data...\n",
      "Loading test data...\n",
      "Initializing model...\n",
      "Training model...\n",
      "Epoch 1/20, Loss: 0.7095\n",
      "Epoch 2/20, Loss: 0.6242\n",
      "Epoch 3/20, Loss: 0.5683\n",
      "Epoch 4/20, Loss: 0.5216\n",
      "Epoch 5/20, Loss: 0.4843\n",
      "Epoch 6/20, Loss: 0.4418\n",
      "Epoch 7/20, Loss: 0.4133\n",
      "Epoch 8/20, Loss: 0.3837\n",
      "Epoch 9/20, Loss: 0.3681\n",
      "Epoch 10/20, Loss: 0.3465\n",
      "Epoch 11/20, Loss: 0.3455\n",
      "Epoch 12/20, Loss: 0.3434\n",
      "Epoch 13/20, Loss: 0.3475\n",
      "Epoch 14/20, Loss: 0.3163\n",
      "Epoch 15/20, Loss: 0.3301\n",
      "Epoch 16/20, Loss: 0.3133\n",
      "Epoch 17/20, Loss: 0.3212\n",
      "Epoch 18/20, Loss: 0.3146\n",
      "Epoch 19/20, Loss: 0.3116\n",
      "Epoch 20/20, Loss: 0.3109\n",
      "Evaluating model...\n",
      "{'0': {'f1-score': 0.9265255292652553,\n",
      "       'precision': 0.8773584905660378,\n",
      "       'recall': 0.9815303430079155,\n",
      "       'support': 379.0},\n",
      " '1': {'f1-score': 0.3655913978494624,\n",
      "       'precision': 0.7083333333333334,\n",
      "       'recall': 0.2463768115942029,\n",
      "       'support': 69.0},\n",
      " 'accuracy': 0.8683035714285714,\n",
      " 'macro avg': {'f1-score': 0.6460584635573589,\n",
      "               'precision': 0.7928459119496856,\n",
      "               'recall': 0.6139535773010593,\n",
      "               'support': 448.0},\n",
      " 'weighted avg': {'f1-score': 0.840131656346305,\n",
      "                  'precision': 0.8513255980458221,\n",
      "                  'recall': 0.8683035714285714,\n",
      "                  'support': 448.0}}\n",
      "Evaluation results saved to /Users/zhangqujiaheng/Zhang's File/Gatech/ML/ML-HW3/results/neural_network_results.json\n"
     ]
    }
   ],
   "source": [
    "project_root = Path.cwd().parent\n",
    "sys.path.append(str(project_root)) \n",
    "\n",
    "config_path = project_root / \"configs\" / \"nn_dr_cluster.yaml\"\n",
    "\n",
    "trainer = NeuralNetworkTrainer(config_path=config_path)\n",
    "trainer.train_and_evaluate()"
   ]
  },
  {
   "cell_type": "markdown",
   "metadata": {},
   "source": [
    "# Umap + Kmeans"
   ]
  },
  {
   "cell_type": "code",
   "execution_count": 9,
   "metadata": {},
   "outputs": [
    {
     "name": "stdout",
     "output_type": "stream",
     "text": [
      "Loading training data...\n",
      "Loading test data...\n",
      "Initializing model...\n",
      "Training model...\n",
      "Epoch 1/20, Loss: 0.7086\n",
      "Epoch 2/20, Loss: 0.5899\n",
      "Epoch 3/20, Loss: 0.5626\n",
      "Epoch 4/20, Loss: 0.5284\n",
      "Epoch 5/20, Loss: 0.4954\n",
      "Epoch 6/20, Loss: 0.4610\n",
      "Epoch 7/20, Loss: 0.4309\n",
      "Epoch 8/20, Loss: 0.4165\n",
      "Epoch 9/20, Loss: 0.3821\n",
      "Epoch 10/20, Loss: 0.3816\n",
      "Epoch 11/20, Loss: 0.3855\n",
      "Epoch 12/20, Loss: 0.3772\n",
      "Epoch 13/20, Loss: 0.3694\n",
      "Epoch 14/20, Loss: 0.3745\n",
      "Epoch 15/20, Loss: 0.4041\n",
      "Epoch 16/20, Loss: 0.3762\n",
      "Epoch 17/20, Loss: 0.3733\n",
      "Epoch 18/20, Loss: 0.3646\n",
      "Epoch 19/20, Loss: 0.3656\n",
      "Epoch 20/20, Loss: 0.3567\n",
      "Evaluating model...\n",
      "{'0': {'f1-score': 0.9193154034229829,\n",
      "       'precision': 0.856492027334852,\n",
      "       'recall': 0.9920844327176781,\n",
      "       'support': 379.0},\n",
      " '1': {'f1-score': 0.15384615384615385,\n",
      "       'precision': 0.6666666666666666,\n",
      "       'recall': 0.08695652173913043,\n",
      "       'support': 69.0},\n",
      " 'accuracy': 0.8526785714285714,\n",
      " 'macro avg': {'f1-score': 0.5365807786345684,\n",
      "               'precision': 0.7615793470007592,\n",
      "               'recall': 0.5395204772284042,\n",
      "               'support': 448.0},\n",
      " 'weighted avg': {'f1-score': 0.8014194698944088,\n",
      "                  'precision': 0.827255532053368,\n",
      "                  'recall': 0.8526785714285714,\n",
      "                  'support': 448.0}}\n",
      "Evaluation results saved to /Users/zhangqujiaheng/Zhang's File/Gatech/ML/ML-HW3/results/neural_network_results.json\n"
     ]
    }
   ],
   "source": [
    "project_root = Path.cwd().parent\n",
    "sys.path.append(str(project_root)) \n",
    "\n",
    "config_path = project_root / \"configs\" / \"nn_dr_cluster.yaml\"\n",
    "\n",
    "trainer = NeuralNetworkTrainer(config_path=config_path)\n",
    "trainer.train_and_evaluate()"
   ]
  },
  {
   "cell_type": "markdown",
   "metadata": {},
   "source": [
    "# PCA + EM"
   ]
  },
  {
   "cell_type": "code",
   "execution_count": null,
   "metadata": {},
   "outputs": [
    {
     "name": "stdout",
     "output_type": "stream",
     "text": [
      "Loading training data...\n",
      "Loading test data...\n",
      "Initializing model...\n",
      "Training model...\n",
      "Epoch 1/20, Loss: 0.6641\n",
      "Epoch 2/20, Loss: 0.5599\n",
      "Epoch 3/20, Loss: 0.5262\n",
      "Epoch 4/20, Loss: 0.4789\n",
      "Epoch 5/20, Loss: 0.4376\n",
      "Epoch 6/20, Loss: 0.4159\n",
      "Epoch 7/20, Loss: 0.3935\n",
      "Epoch 8/20, Loss: 0.3600\n",
      "Epoch 9/20, Loss: 0.3590\n",
      "Epoch 10/20, Loss: 0.3365\n",
      "Epoch 11/20, Loss: 0.3286\n",
      "Epoch 12/20, Loss: 0.3110\n",
      "Epoch 13/20, Loss: 0.3156\n",
      "Epoch 14/20, Loss: 0.3182\n",
      "Epoch 15/20, Loss: 0.3263\n",
      "Epoch 16/20, Loss: 0.3128\n",
      "Epoch 17/20, Loss: 0.3136\n",
      "Epoch 18/20, Loss: 0.3130\n",
      "Epoch 19/20, Loss: 0.3078\n",
      "Epoch 20/20, Loss: 0.3172\n",
      "Evaluating model...\n",
      "{'0': {'f1-score': 0.9261576971214017,\n",
      "       'precision': 0.8809523809523809,\n",
      "       'recall': 0.9762532981530343,\n",
      "       'support': 379.0},\n",
      " '1': {'f1-score': 0.3917525773195876,\n",
      "       'precision': 0.6785714285714286,\n",
      "       'recall': 0.2753623188405797,\n",
      "       'support': 69.0},\n",
      " 'accuracy': 0.8683035714285714,\n",
      " 'macro avg': {'f1-score': 0.6589551372204947,\n",
      "               'precision': 0.7797619047619048,\n",
      "               'recall': 0.6258078084968071,\n",
      "               'support': 448.0},\n",
      " 'weighted avg': {'f1-score': 0.8438497657233545,\n",
      "                  'precision': 0.8497821003401359,\n",
      "                  'recall': 0.8683035714285714,\n",
      "                  'support': 448.0}}\n",
      "Evaluation results saved to /Users/zhangqujiaheng/Zhang's File/Gatech/ML/ML-HW3/results/neural_network_results.json\n"
     ]
    }
   ],
   "source": [
    "project_root = Path.cwd().parent\n",
    "sys.path.append(str(project_root))\n",
    "\n",
    "config_path = project_root / \"configs\" / \"nn_dr_cluster.yaml\"\n",
    "\n",
    "trainer = NeuralNetworkTrainer(config_path=config_path)\n",
    "trainer.train_and_evaluate()"
   ]
  },
  {
   "cell_type": "markdown",
   "metadata": {},
   "source": [
    "# ICA + EM"
   ]
  },
  {
   "cell_type": "code",
   "execution_count": 6,
   "metadata": {},
   "outputs": [
    {
     "name": "stdout",
     "output_type": "stream",
     "text": [
      "Loading training data...\n",
      "Loading test data...\n",
      "Initializing model...\n",
      "Training model...\n",
      "Epoch 1/20, Loss: 0.6703\n",
      "Epoch 2/20, Loss: 0.6110\n",
      "Epoch 3/20, Loss: 0.5603\n",
      "Epoch 4/20, Loss: 0.5016\n",
      "Epoch 5/20, Loss: 0.4760\n",
      "Epoch 6/20, Loss: 0.4449\n",
      "Epoch 7/20, Loss: 0.4148\n",
      "Epoch 8/20, Loss: 0.3890\n",
      "Epoch 9/20, Loss: 0.3733\n",
      "Epoch 10/20, Loss: 0.3609\n",
      "Epoch 11/20, Loss: 0.3392\n",
      "Epoch 12/20, Loss: 0.3594\n",
      "Epoch 13/20, Loss: 0.3314\n",
      "Epoch 14/20, Loss: 0.3467\n",
      "Epoch 15/20, Loss: 0.3365\n",
      "Epoch 16/20, Loss: 0.3155\n",
      "Epoch 17/20, Loss: 0.3135\n",
      "Epoch 18/20, Loss: 0.3289\n",
      "Epoch 19/20, Loss: 0.3210\n",
      "Epoch 20/20, Loss: 0.3172\n",
      "Evaluating model...\n",
      "{'0': {'f1-score': 0.9240348692403487,\n",
      "       'precision': 0.875,\n",
      "       'recall': 0.978891820580475,\n",
      "       'support': 379.0},\n",
      " '1': {'f1-score': 0.34408602150537637,\n",
      "       'precision': 0.6666666666666666,\n",
      "       'recall': 0.2318840579710145,\n",
      "       'support': 69.0},\n",
      " 'accuracy': 0.8638392857142857,\n",
      " 'macro avg': {'f1-score': 0.6340604453728625,\n",
      "               'precision': 0.7708333333333333,\n",
      "               'recall': 0.6053879392757447,\n",
      "               'support': 448.0},\n",
      " 'weighted avg': {'f1-score': 0.8347123904597391,\n",
      "                  'precision': 0.8429129464285714,\n",
      "                  'recall': 0.8638392857142857,\n",
      "                  'support': 448.0}}\n",
      "Evaluation results saved to /Users/zhangqujiaheng/Zhang's File/Gatech/ML/ML-HW3/results/neural_network_results.json\n"
     ]
    }
   ],
   "source": [
    "project_root = Path.cwd().parent\n",
    "sys.path.append(str(project_root))\n",
    "\n",
    "config_path = project_root / \"configs\" / \"nn_dr_cluster.yaml\"\n",
    "\n",
    "trainer = NeuralNetworkTrainer(config_path=config_path)\n",
    "trainer.train_and_evaluate()"
   ]
  },
  {
   "cell_type": "markdown",
   "metadata": {},
   "source": [
    "# RP + EM"
   ]
  },
  {
   "cell_type": "code",
   "execution_count": 45,
   "metadata": {},
   "outputs": [
    {
     "name": "stdout",
     "output_type": "stream",
     "text": [
      "Loading training data...\n",
      "Loading test data...\n",
      "Initializing model...\n",
      "Training model...\n",
      "Epoch 1/20, Loss: 0.7094\n",
      "Epoch 2/20, Loss: 0.6129\n",
      "Epoch 3/20, Loss: 0.5510\n",
      "Epoch 4/20, Loss: 0.5103\n",
      "Epoch 5/20, Loss: 0.4987\n",
      "Epoch 6/20, Loss: 0.4438\n",
      "Epoch 7/20, Loss: 0.4369\n",
      "Epoch 8/20, Loss: 0.4075\n",
      "Epoch 9/20, Loss: 0.3708\n",
      "Epoch 10/20, Loss: 0.3537\n",
      "Epoch 11/20, Loss: 0.3267\n",
      "Epoch 12/20, Loss: 0.3297\n",
      "Epoch 13/20, Loss: 0.3267\n",
      "Epoch 14/20, Loss: 0.3237\n",
      "Epoch 15/20, Loss: 0.3245\n",
      "Epoch 16/20, Loss: 0.3143\n",
      "Epoch 17/20, Loss: 0.3140\n",
      "Epoch 18/20, Loss: 0.3201\n",
      "Epoch 19/20, Loss: 0.3175\n",
      "Epoch 20/20, Loss: 0.3097\n",
      "Evaluating model...\n",
      "{'0': {'f1-score': 0.9246231155778895,\n",
      "       'precision': 0.882494004796163,\n",
      "       'recall': 0.9709762532981531,\n",
      "       'support': 379.0},\n",
      " '1': {'f1-score': 0.4,\n",
      "       'precision': 0.6451612903225806,\n",
      "       'recall': 0.2898550724637681,\n",
      "       'support': 69.0},\n",
      " 'accuracy': 0.8660714285714286,\n",
      " 'macro avg': {'f1-score': 0.6623115577889447,\n",
      "               'precision': 0.7638276475593718,\n",
      "               'recall': 0.6304156628809606,\n",
      "               'support': 448.0},\n",
      " 'weighted avg': {'f1-score': 0.8438217875089735,\n",
      "                  'precision': 0.8459405286830444,\n",
      "                  'recall': 0.8660714285714286,\n",
      "                  'support': 448.0}}\n",
      "Evaluation results saved to /Users/zhangqujiaheng/Zhang's File/Gatech/ML/ML-HW3/results/neural_network_results.json\n"
     ]
    }
   ],
   "source": [
    "project_root = Path.cwd().parent\n",
    "sys.path.append(str(project_root))\n",
    "\n",
    "config_path = project_root / \"configs\" / \"nn_dr_cluster.yaml\"\n",
    "\n",
    "trainer = NeuralNetworkTrainer(config_path=config_path)\n",
    "trainer.train_and_evaluate()"
   ]
  },
  {
   "cell_type": "markdown",
   "metadata": {},
   "source": [
    "# Umap + EM"
   ]
  },
  {
   "cell_type": "code",
   "execution_count": null,
   "metadata": {},
   "outputs": [
    {
     "name": "stdout",
     "output_type": "stream",
     "text": [
      "Loading training data...\n",
      "Loading test data...\n",
      "Initializing model...\n",
      "Training model...\n",
      "Epoch 1/20, Loss: 0.6971\n",
      "Epoch 2/20, Loss: 0.5810\n",
      "Epoch 3/20, Loss: 0.5414\n",
      "Epoch 4/20, Loss: 0.5127\n",
      "Epoch 5/20, Loss: 0.4719\n",
      "Epoch 6/20, Loss: 0.4526\n",
      "Epoch 7/20, Loss: 0.4333\n",
      "Epoch 8/20, Loss: 0.4133\n",
      "Epoch 9/20, Loss: 0.4141\n",
      "Epoch 10/20, Loss: 0.4033\n",
      "Epoch 11/20, Loss: 0.3813\n",
      "Epoch 12/20, Loss: 0.3808\n",
      "Epoch 13/20, Loss: 0.3667\n",
      "Epoch 14/20, Loss: 0.3688\n",
      "Epoch 15/20, Loss: 0.3688\n",
      "Epoch 16/20, Loss: 0.3785\n",
      "Epoch 17/20, Loss: 0.3659\n",
      "Epoch 18/20, Loss: 0.3759\n",
      "Epoch 19/20, Loss: 0.3673\n",
      "Epoch 20/20, Loss: 0.3656\n",
      "Evaluating model...\n",
      "{'0': {'f1-score': 0.9193154034229829,\n",
      "       'precision': 0.856492027334852,\n",
      "       'recall': 0.9920844327176781,\n",
      "       'support': 379.0},\n",
      " '1': {'f1-score': 0.15384615384615385,\n",
      "       'precision': 0.6666666666666666,\n",
      "       'recall': 0.08695652173913043,\n",
      "       'support': 69.0},\n",
      " 'accuracy': 0.8526785714285714,\n",
      " 'macro avg': {'f1-score': 0.5365807786345684,\n",
      "               'precision': 0.7615793470007592,\n",
      "               'recall': 0.5395204772284042,\n",
      "               'support': 448.0},\n",
      " 'weighted avg': {'f1-score': 0.8014194698944088,\n",
      "                  'precision': 0.827255532053368,\n",
      "                  'recall': 0.8526785714285714,\n",
      "                  'support': 448.0}}\n",
      "Evaluation results saved to /Users/zhangqujiaheng/Zhang's File/Gatech/ML/ML-HW3/results/neural_network_results.json\n"
     ]
    }
   ],
   "source": [
    "project_root = Path.cwd().parent\n",
    "sys.path.append(str(project_root))\n",
    "\n",
    "config_path = project_root / \"configs\" / \"nn_dr_cluster.yaml\"\n",
    "\n",
    "trainer = NeuralNetworkTrainer(config_path=config_path)\n",
    "trainer.train_and_evaluate()"
   ]
  },
  {
   "cell_type": "code",
   "execution_count": null,
   "metadata": {},
   "outputs": [],
   "source": []
  }
 ],
 "metadata": {
  "kernelspec": {
   "display_name": "conda-ml2",
   "language": "python",
   "name": "ml-hw2"
  },
  "language_info": {
   "codemirror_mode": {
    "name": "ipython",
    "version": 3
   },
   "file_extension": ".py",
   "mimetype": "text/x-python",
   "name": "python",
   "nbconvert_exporter": "python",
   "pygments_lexer": "ipython3",
   "version": "3.12.3"
  }
 },
 "nbformat": 4,
 "nbformat_minor": 2
}
